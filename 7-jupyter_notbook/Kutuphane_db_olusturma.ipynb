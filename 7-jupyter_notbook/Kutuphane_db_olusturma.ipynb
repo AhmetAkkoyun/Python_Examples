{
 "cells": [
  {
   "cell_type": "markdown",
   "id": "792f9b20",
   "metadata": {},
   "source": [
    "# &nbsp;&nbsp;&nbsp;&nbsp;&nbsp;&nbsp;&nbsp;&nbsp;&nbsp;&nbsp;&nbsp;&nbsp;&nbsp;&nbsp;&nbsp;&nbsp;&nbsp;&nbsp;&nbsp;&nbsp;&nbsp;&nbsp;&nbsp;&nbsp;&nbsp;Python ile sqlite veritabanı ve tablo oluşturma\n",
    "\n",
    "<IMG src=\"./sqlogo.jfif\" width=\"100\" height=\"100\">"
   ]
  },
  {
   "cell_type": "code",
   "execution_count": 1,
   "id": "e524342f",
   "metadata": {},
   "outputs": [],
   "source": [
    "# sqlite kullanmak için öncelikle sqlite3 modülünü import etmeliyiz\n",
    "import sqlite3\n",
    "from sqlite3 import Error"
   ]
  },
  {
   "cell_type": "code",
   "execution_count": 2,
   "id": "ed329e49",
   "metadata": {},
   "outputs": [],
   "source": [
    "# seçilen veritabanı dosyasına connection yapan (veritabanı mevcut değilse oluşturan ve bağlanan) bir fonksiyon tanımlıyoruz\n",
    "# def içine sadece con = sqlite.connect(db_file) yazabilirdik ama hata kontrollü olsun istedik.\n",
    "def connection_olustur(db_file):\n",
    "    con = None\n",
    "    try:\n",
    "        con = sqlite3.connect(db_file)\n",
    "        print(\"connection oluşturuldu...\")\n",
    "    except Error as e:\n",
    "        print(\"hata oluştu \", e)\n",
    "    return con      "
   ]
  },
  {
   "cell_type": "code",
   "execution_count": 3,
   "id": "d61f18a4",
   "metadata": {},
   "outputs": [
    {
     "name": "stdout",
     "output_type": "stream",
     "text": [
      "connection oluşturuldu...\n"
     ]
    }
   ],
   "source": [
    "# fonksiyonu çalıştırıp bağlantı nesnesi oluşturuyoruz - tanımladığımız bildirim mesajını verecek\n",
    "sqlite_connection = connection_olustur(\"kutuphane.db\")"
   ]
  },
  {
   "cell_type": "code",
   "execution_count": 4,
   "id": "0d942654",
   "metadata": {},
   "outputs": [],
   "source": [
    "# hata durumunda veritabına bağlanamadıysa ya da oluşturamadıysa programdan çıkış yapsın diye bir kod yazalım\n",
    "if sqlite_connection == None:\n",
    "    print(\"veritabanına bağlantı sağlanamadı. Program kapanıyor.\")\n",
    "    exit()"
   ]
  },
  {
   "cell_type": "markdown",
   "id": "2d4ecbe1",
   "metadata": {},
   "source": [
    "### Veritabanında tablo oluşturma "
   ]
  },
  {
   "cell_type": "code",
   "execution_count": 5,
   "id": "814fcb92",
   "metadata": {},
   "outputs": [],
   "source": [
    "# tablo için önce cursor nesnesi oluşturmalıyız\n",
    "cursor = sqlite_connection.cursor()"
   ]
  },
  {
   "cell_type": "code",
   "execution_count": 6,
   "id": "03529982",
   "metadata": {},
   "outputs": [],
   "source": [
    "# tablo oluşturmak için tablo oluştururken oluşabilecek hataları gösteren bir fonksiyon yazalım\n",
    "def tablo_olustur(curs):\n",
    "    try:\n",
    "        curs.execute(\"CREATE TABLE IF NOT EXISTS kitaplar (kitapadi TEXT, yazar TEXT, kitapno INT, sayfasayisi INT )\")\n",
    "    except Error as e:\n",
    "        print(\"hata oluştu \", e)        "
   ]
  },
  {
   "cell_type": "code",
   "execution_count": 7,
   "id": "83d696e8",
   "metadata": {},
   "outputs": [],
   "source": [
    "# kitaplar isimli tabloyu kutuphane veritabanı içinde oluşturalım\n",
    "tablo_olustur(cursor)\n",
    "sqlite_connection.commit()"
   ]
  },
  {
   "cell_type": "markdown",
   "id": "abdab576",
   "metadata": {},
   "source": [
    "### Tabloya kayıt atma işlemi"
   ]
  },
  {
   "cell_type": "code",
   "execution_count": 9,
   "id": "0101e8a1",
   "metadata": {},
   "outputs": [
    {
     "data": {
      "text/plain": [
       "<sqlite3.Cursor at 0x299d807b340>"
      ]
     },
     "execution_count": 9,
     "metadata": {},
     "output_type": "execute_result"
    }
   ],
   "source": [
    "cursor.execute(\"INSERT INTO kitaplar VALUES ('Da vinci sifresi', 'dan brown', 1000, 495)\")"
   ]
  },
  {
   "cell_type": "code",
   "execution_count": 10,
   "id": "c7c496d7",
   "metadata": {},
   "outputs": [],
   "source": [
    "# işlemden sonra mutlaka commit gerekir\n",
    "sqlite_connection.commit()"
   ]
  },
  {
   "cell_type": "code",
   "execution_count": 11,
   "id": "3c020af3",
   "metadata": {},
   "outputs": [
    {
     "data": {
      "text/plain": [
       "<sqlite3.Cursor at 0x299d807b340>"
      ]
     },
     "execution_count": 11,
     "metadata": {},
     "output_type": "execute_result"
    }
   ],
   "source": [
    "cursor.execute(\"INSERT INTO kitaplar VALUES ('Dune', 'frank herbert', 1001, 297)\")"
   ]
  },
  {
   "cell_type": "code",
   "execution_count": 12,
   "id": "735c4903",
   "metadata": {},
   "outputs": [],
   "source": [
    "sqlite_connection.commit()"
   ]
  },
  {
   "cell_type": "code",
   "execution_count": 13,
   "id": "cc83a948",
   "metadata": {},
   "outputs": [
    {
     "data": {
      "text/plain": [
       "<sqlite3.Cursor at 0x299d807b340>"
      ]
     },
     "execution_count": 13,
     "metadata": {},
     "output_type": "execute_result"
    }
   ],
   "source": [
    "cursor.execute(\"INSERT INTO kitaplar VALUES ('Yüzüklerin efendisi', 'J.R.R. Tolkien', 1002, 1026)\")"
   ]
  },
  {
   "cell_type": "code",
   "execution_count": 14,
   "id": "ac4c62b3",
   "metadata": {},
   "outputs": [],
   "source": [
    "sqlite_connection.commit()"
   ]
  },
  {
   "cell_type": "markdown",
   "id": "b2102af0",
   "metadata": {},
   "source": [
    "### Tablodan kayıt çekme"
   ]
  },
  {
   "cell_type": "code",
   "execution_count": 15,
   "id": "8ab5e8a8",
   "metadata": {},
   "outputs": [
    {
     "data": {
      "text/plain": [
       "<sqlite3.Cursor at 0x299d807b340>"
      ]
     },
     "execution_count": 15,
     "metadata": {},
     "output_type": "execute_result"
    }
   ],
   "source": [
    "cursor.execute(\"SELECT * FROM kitaplar \")\n",
    "# \"*\" olunca herşey seçilir. \"*\" yerine \"kitapadi\" yazsaydik sadece kitapadi gelirdi. \"*\" yerine \"kitapadi, yazar\" gibi çoklu bilgi de girilebilir"
   ]
  },
  {
   "cell_type": "code",
   "execution_count": 16,
   "id": "290d05ef",
   "metadata": {},
   "outputs": [],
   "source": [
    "cekilen_veri = cursor.fetchall()"
   ]
  },
  {
   "cell_type": "code",
   "execution_count": 17,
   "id": "9e3e6296",
   "metadata": {},
   "outputs": [
    {
     "name": "stdout",
     "output_type": "stream",
     "text": [
      "('Da vinci sifresi', 'dan brown', 1000, 495)\n",
      "('Dune', 'frank herbert', 1001, 297)\n",
      "('Yüzüklerin efendisi', 'J.R.R. Tolkien', 1002, 1026)\n"
     ]
    }
   ],
   "source": [
    "for each in cekilen_veri:\n",
    "    print(each)"
   ]
  },
  {
   "cell_type": "markdown",
   "id": "e410718b",
   "metadata": {},
   "source": [
    "##### Örnek"
   ]
  },
  {
   "cell_type": "code",
   "execution_count": 18,
   "id": "e489ab1a",
   "metadata": {},
   "outputs": [
    {
     "data": {
      "text/plain": [
       "<sqlite3.Cursor at 0x299d807b340>"
      ]
     },
     "execution_count": 18,
     "metadata": {},
     "output_type": "execute_result"
    }
   ],
   "source": [
    "# sayfa sayısı 400 den çok olan kitapları görelim\n",
    "cursor.execute(\"SELECT * FROM kitaplar WHERE sayfasayisi > 400 \")"
   ]
  },
  {
   "cell_type": "code",
   "execution_count": 19,
   "id": "aebf36e0",
   "metadata": {},
   "outputs": [],
   "source": [
    "cekilen_veri = cursor.fetchall()"
   ]
  },
  {
   "cell_type": "code",
   "execution_count": 20,
   "id": "38efc4ed",
   "metadata": {},
   "outputs": [
    {
     "name": "stdout",
     "output_type": "stream",
     "text": [
      "('Da vinci sifresi', 'dan brown', 1000, 495)\n",
      "('Yüzüklerin efendisi', 'J.R.R. Tolkien', 1002, 1026)\n"
     ]
    }
   ],
   "source": [
    "for each in cekilen_veri:\n",
    "    print(each)"
   ]
  },
  {
   "cell_type": "markdown",
   "id": "79c72d81",
   "metadata": {},
   "source": [
    "#### Örnek"
   ]
  },
  {
   "cell_type": "code",
   "execution_count": 23,
   "id": "7ab7fd6e",
   "metadata": {},
   "outputs": [
    {
     "data": {
      "text/plain": [
       "<sqlite3.Cursor at 0x299d807b340>"
      ]
     },
     "execution_count": 23,
     "metadata": {},
     "output_type": "execute_result"
    }
   ],
   "source": [
    "# yazarı dan brown olan kitapları görelim\n",
    "cursor.execute(\"SELECT * FROM kitaplar WHERE yazar = 'dan brown' \")"
   ]
  },
  {
   "cell_type": "code",
   "execution_count": 24,
   "id": "0b3a42cf",
   "metadata": {},
   "outputs": [],
   "source": [
    "cekilen_veri = cursor.fetchall()"
   ]
  },
  {
   "cell_type": "code",
   "execution_count": 25,
   "id": "540d66ab",
   "metadata": {},
   "outputs": [
    {
     "name": "stdout",
     "output_type": "stream",
     "text": [
      "('Da vinci sifresi', 'dan brown', 1000, 495)\n"
     ]
    }
   ],
   "source": [
    "for each in cekilen_veri:\n",
    "    print(each)"
   ]
  },
  {
   "cell_type": "markdown",
   "id": "9331c0e4",
   "metadata": {},
   "source": [
    "### Tablodaki verileri güncelleme"
   ]
  },
  {
   "cell_type": "code",
   "execution_count": 26,
   "id": "dff72344",
   "metadata": {},
   "outputs": [
    {
     "data": {
      "text/plain": [
       "<sqlite3.Cursor at 0x299d807b340>"
      ]
     },
     "execution_count": 26,
     "metadata": {},
     "output_type": "execute_result"
    }
   ],
   "source": [
    "cursor.execute(\"UPDATE kitaplar SET sayfasayisi = 999 WHERE sayfasayisi > 400 \")"
   ]
  },
  {
   "cell_type": "code",
   "execution_count": 27,
   "id": "7a414050",
   "metadata": {},
   "outputs": [
    {
     "data": {
      "text/plain": [
       "<sqlite3.Cursor at 0x299d807b340>"
      ]
     },
     "execution_count": 27,
     "metadata": {},
     "output_type": "execute_result"
    }
   ],
   "source": [
    "cursor.execute(\"SELECT * FROM kitaplar \")"
   ]
  },
  {
   "cell_type": "code",
   "execution_count": 28,
   "id": "cc3d8680",
   "metadata": {},
   "outputs": [],
   "source": [
    "cekilen_veri = cursor.fetchall()"
   ]
  },
  {
   "cell_type": "code",
   "execution_count": 29,
   "id": "86248ba8",
   "metadata": {},
   "outputs": [
    {
     "name": "stdout",
     "output_type": "stream",
     "text": [
      "('Da vinci sifresi', 'dan brown', 1000, 999)\n",
      "('Dune', 'frank herbert', 1001, 297)\n",
      "('Yüzüklerin efendisi', 'J.R.R. Tolkien', 1002, 999)\n"
     ]
    }
   ],
   "source": [
    "for each in cekilen_veri:\n",
    "    print(each)"
   ]
  },
  {
   "cell_type": "code",
   "execution_count": 30,
   "id": "8d6ebb0c",
   "metadata": {},
   "outputs": [],
   "source": [
    "sqlite_connection.commit()\n",
    "#bunu unutma yoksa veritabanı üzerine kaydetmez."
   ]
  },
  {
   "cell_type": "markdown",
   "id": "54606caf",
   "metadata": {},
   "source": [
    "### Tablodan veri silme"
   ]
  },
  {
   "cell_type": "code",
   "execution_count": 31,
   "id": "ba6e874e",
   "metadata": {},
   "outputs": [
    {
     "data": {
      "text/plain": [
       "<sqlite3.Cursor at 0x299d807b340>"
      ]
     },
     "execution_count": 31,
     "metadata": {},
     "output_type": "execute_result"
    }
   ],
   "source": [
    "# 1001 id numaralı kitabı silelim\n",
    "cursor.execute(\"DELETE FROM kitaplar WHERE kitapno = 1001 \")"
   ]
  },
  {
   "cell_type": "code",
   "execution_count": 32,
   "id": "fd516eb5",
   "metadata": {},
   "outputs": [
    {
     "name": "stdout",
     "output_type": "stream",
     "text": [
      "('Da vinci sifresi', 'dan brown', 1000, 999)\n",
      "('Yüzüklerin efendisi', 'J.R.R. Tolkien', 1002, 999)\n"
     ]
    }
   ],
   "source": [
    "cursor.execute(\"SELECT * FROM kitaplar \")\n",
    "cekilen_veri = cursor.fetchall()\n",
    "for each in cekilen_veri:\n",
    "    print(each)"
   ]
  },
  {
   "cell_type": "code",
   "execution_count": 33,
   "id": "a09d871f",
   "metadata": {},
   "outputs": [],
   "source": [
    "sqlite_connection.commit()"
   ]
  },
  {
   "cell_type": "code",
   "execution_count": 34,
   "id": "5dea0dbf",
   "metadata": {},
   "outputs": [],
   "source": [
    "# oluşturduğumuz veritabanı bağlantısını program sonunda kapatıyoruz\n",
    "# bu en son satırda olsun\n",
    "if sqlite_connection:\n",
    "    sqlite_connection.close()"
   ]
  },
  {
   "cell_type": "code",
   "execution_count": null,
   "id": "8ae81b82",
   "metadata": {},
   "outputs": [],
   "source": []
  }
 ],
 "metadata": {
  "kernelspec": {
   "display_name": "Python 3",
   "language": "python",
   "name": "python3"
  },
  "language_info": {
   "codemirror_mode": {
    "name": "ipython",
    "version": 3
   },
   "file_extension": ".py",
   "mimetype": "text/x-python",
   "name": "python",
   "nbconvert_exporter": "python",
   "pygments_lexer": "ipython3",
   "version": "3.8.8"
  }
 },
 "nbformat": 4,
 "nbformat_minor": 5
}
